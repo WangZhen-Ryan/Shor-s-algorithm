{
 "cells": [
  {
   "cell_type": "markdown",
   "metadata": {},
   "source": [
    "## Comp3710 Final Project\n",
    "\n",
    "## Shor's Algorithm kata using Qsharp environment\n",
    "\n",
    "## Abstract\n",
    "This is a Qsharp tutorial on Shor's algorithm that aims to teach you each step to construct the algorithm. The shor's algorithm contains classic arthmetic part that could be utilized by using other programming language like python or cpp. For consistency purpose, this kata will purely use Qsharp. Due to limit resource and some weakness of Qsharp, some part in this tutorial can be improved and polished."
   ]
  },
  {
   "cell_type": "markdown",
   "metadata": {},
   "source": [
    "### The flowchart of shor's!\n",
    "![flowchart](./image/flowchart.jpg)"
   ]
  },
  {
   "cell_type": "code",
   "execution_count": 1,
   "metadata": {},
   "outputs": [
    {
     "data": {
      "application/x-qsharp-data": "[]",
      "text/html": [
       "<ul></ul>"
      ],
      "text/plain": []
     },
     "execution_count": 1,
     "metadata": {},
     "output_type": "execute_result"
    }
   ],
   "source": [
    "// import relevant namespace\n",
    "open Microsoft.Quantum.Arithmetic;\n",
    "open Microsoft.Quantum.Diagnostics;\n",
    "open Microsoft.Quantum.Math;\n",
    "open Microsoft.Quantum.Random;\n",
    "open Microsoft.Quantum.Convert;\n",
    "open Microsoft.Quantum.Oracles;\n",
    "open Microsoft.Quantum.Characterization;\n",
    "open Microsoft.Quantum.Measurement;"
   ]
  },
  {
   "cell_type": "markdown",
   "metadata": {},
   "source": [
    "We will use LittleEndian throughout"
   ]
  },
  {
   "cell_type": "code",
   "execution_count": 2,
   "metadata": {},
   "outputs": [
    {
     "data": {
      "application/x-qsharp-data": "\"\\\"true\\\"\"",
      "text/plain": [
       "\"true\""
      ]
     },
     "execution_count": 2,
     "metadata": {},
     "output_type": "execute_result"
    }
   ],
   "source": [
    "%config dump.basisStateLabelingConvention=\"LittleEndian\"\n",
    "%config dump.truncateSmallAmplitudes = \"true\""
   ]
  },
  {
   "cell_type": "markdown",
   "metadata": {},
   "source": [
    "### The quantum circuit\n",
    "![circuit](./image/shorcircuit.jpg)"
   ]
  },
  {
   "cell_type": "markdown",
   "metadata": {},
   "source": [
    "### Luckily, we got all the numerical operation inbuilt in Qsharp library that operates on the superposition arithmetic on qubits, let's get familiar with these operations.\n",
    "1. ModularMultiplyByConstantLE\n",
    "2. PowerMod\n",
    "3. ExpModI\n",
    "4. BitsizeI\n",
    "4. GreatestCommonDivisorI\n",
    "5. ApplyXorInplace\n",
    "6. MultiplyByModularInteger\n",
    "7. RobustPhaseEstimation\n",
    "8. PhaseEstimationImpl\n",
    "\n",
    "### Naming conventions: a refers to the generator, x or r refers to the power and N refers to the number to be factorized.\n"
   ]
  },
  {
   "cell_type": "markdown",
   "metadata": {},
   "source": [
    "### Step1: verify number $N$ is a non-prime number and find the generator $a$ that is coprime to $N$"
   ]
  },
  {
   "cell_type": "code",
   "execution_count": 3,
   "metadata": {},
   "outputs": [
    {
     "data": {
      "application/x-qsharp-data": "[\"determ_prime\",\"determ_coprime\",\"determ_precision\",\"calculate_remainder\"]",
      "text/html": [
       "<ul><li>determ_prime</li><li>determ_coprime</li><li>determ_precision</li><li>calculate_remainder</li></ul>"
      ],
      "text/plain": [
       "determ_prime, determ_coprime, determ_precision, calculate_remainder"
      ]
     },
     "execution_count": 3,
     "metadata": {},
     "output_type": "execute_result"
    }
   ],
   "source": [
    "// built-in function IsCoprimeI is helpful in determining whether two integer are coprime\n",
    "\n",
    "function determ_prime(N : Int ): Bool {\n",
    "    for divisor in (2 .. N-1){\n",
    "        if (N%divisor == 0) {\n",
    "            Message($\"Checked, {N} is non-prime\");\n",
    "            return false;}\n",
    "        }\n",
    "    Message($\"The number {N} is a prime, pick another N\");\n",
    "    return true;\n",
    "}\n",
    "\n",
    "function determ_coprime(generator : Int, N : Int ): Bool {\n",
    "        if (not IsCoprimeI(generator, N)){\n",
    "        Message(\"The generator is not coprime with N, pick another generator\");\n",
    "        }\n",
    "        return IsCoprimeI(generator, N);\n",
    "}\n",
    "\n",
    "function determ_precision(N :Int):Int{\n",
    "    return 2*BitSizeI(N) + 1;\n",
    "}\n",
    "\n",
    "function calculate_remainder(a :Int, r:Int, N :Int):Int{\n",
    "    return ExpModI(a,r,N);\n",
    "}"
   ]
  },
  {
   "cell_type": "markdown",
   "metadata": {},
   "source": [
    "### Step2: prepare circuit"
   ]
  },
  {
   "cell_type": "markdown",
   "metadata": {},
   "source": [
    "#### 2.1 Prepare superposition with two input integer\n",
    "Demo purpose. Does not has practical usage.\n",
    "It shows how to use a control qubit to encode two integer into register. The two integer are N and a."
   ]
  },
  {
   "cell_type": "code",
   "execution_count": 4,
   "metadata": {},
   "outputs": [
    {
     "data": {
      "application/x-qsharp-data": "[\"superposition\"]",
      "text/html": [
       "<ul><li>superposition</li></ul>"
      ],
      "text/plain": [
       "superposition"
      ]
     },
     "execution_count": 4,
     "metadata": {},
     "output_type": "execute_result"
    }
   ],
   "source": [
    "operation superposition(integer1 :Int, integer2 :Int, register : LittleEndian): Unit is Adj + Ctl {\n",
    "    use control_bit = Qubit() {\n",
    "        H(control_bit);\n",
    "        within {X(control_bit);} \n",
    "        apply {Controlled ApplyXorInPlace([control_bit],(integer1, register));}\n",
    "        Controlled ApplyXorInPlace([control_bit],(integer2, register));\n",
    "        (ControlledOnInt(integer2, Y))(register!, control_bit);\n",
    "    }\n",
    "}"
   ]
  },
  {
   "cell_type": "code",
   "execution_count": 5,
   "metadata": {},
   "outputs": [
    {
     "name": "stdout",
     "output_type": "stream",
     "text": [
      "\n",
      "Warning QS3002: \n",
      "File: /snippet_.qs \n",
      "Position: [ln 1, cn 85] \n",
      "Deprecated syntax. Use the type name \"Unit\" instead.\n"
     ]
    },
    {
     "data": {
      "application/x-qsharp-data": "[\"Unitary_Mod\"]",
      "text/html": [
       "<ul><li>Unitary_Mod</li></ul>"
      ],
      "text/plain": [
       "Unitary_Mod"
      ]
     },
     "execution_count": 5,
     "metadata": {},
     "output_type": "execute_result"
    }
   ],
   "source": [
    "operation Unitary_Mod(integer1 :Int, integer2 :Int,multiplier : Int,modulus : Int): () {\n",
    "    // we want to keep track of remainder, the remainder is less than modulus\n",
    "    // the maximum #bits used to encode remainder\n",
    "    let encoding_bits = BitSizeI(modulus);\n",
    "    use target = Qubit[encoding_bits] {\n",
    "        let register = LittleEndian(target);\n",
    "        // prepare the superposition w.r.t two integer\n",
    "        superposition(integer1,integer2, register);\n",
    "        MultiplyByModularInteger(multiplier, modulus, register);\n",
    "    }\n",
    "}"
   ]
  },
  {
   "cell_type": "markdown",
   "metadata": {},
   "source": [
    "#### 2.2 construct inverse QFT\n",
    "Implementation: Apply the H gate to create superposition and then R1Frac gate apply the phase $e^{i\\pi n/2^{k}}$. In the end, swap the binaryFraction into reverse order. It is necessary to build QFT from scratch since the inbuilt QFT function use BigEddian as default.\n",
    "For details, please refer to the QFT kata tutorial."
   ]
  },
  {
   "cell_type": "code",
   "execution_count": 6,
   "metadata": {},
   "outputs": [
    {
     "data": {
      "application/x-qsharp-data": "[\"ReverseRegister\"]",
      "text/html": [
       "<ul><li>ReverseRegister</li></ul>"
      ],
      "text/plain": [
       "ReverseRegister"
      ]
     },
     "execution_count": 6,
     "metadata": {},
     "output_type": "execute_result"
    }
   ],
   "source": [
    "operation ReverseRegister (register : Qubit[]) : Unit is Adj+Ctl {\n",
    "    let N = Length(register);\n",
    "    for ind in 0 .. N / 2 - 1 {\n",
    "        SWAP(register[ind], register[N - 1 - ind]);\n",
    "    }\n",
    "}"
   ]
  },
  {
   "cell_type": "code",
   "execution_count": 7,
   "metadata": {},
   "outputs": [
    {
     "data": {
      "application/x-qsharp-data": "[\"QFT\",\"inverse_QFT\"]",
      "text/html": [
       "<ul><li>QFT</li><li>inverse_QFT</li></ul>"
      ],
      "text/plain": [
       "QFT, inverse_QFT"
      ]
     },
     "execution_count": 7,
     "metadata": {},
     "output_type": "execute_result"
    }
   ],
   "source": [
    "operation QFT(registers:Qubit[]): Unit is Adj+Ctl{\n",
    "    let length = Length(registers);\n",
    "    for i in 0 .. length-1{\n",
    "        H(registers[i]);\n",
    "        for k in 1 .. i -1{\n",
    "        Controlled R1Frac([registers[k]],(2, i-k+1, registers[k]));\n",
    "        }\n",
    "    }\n",
    "    ReverseRegister(registers);\n",
    "}\n",
    "\n",
    "operation inverse_QFT(registers:Qubit[]): Unit is Adj+Ctl{\n",
    "    Adjoint QFT(registers);\n",
    "}"
   ]
  },
  {
   "cell_type": "markdown",
   "metadata": {},
   "source": [
    "### Step3: prepare modular oracle"
   ]
  },
  {
   "cell_type": "code",
   "execution_count": 8,
   "metadata": {},
   "outputs": [
    {
     "data": {
      "application/x-qsharp-data": "[\"modularOracle\"]",
      "text/html": [
       "<ul><li>modularOracle</li></ul>"
      ],
      "text/plain": [
       "modularOracle"
      ]
     },
     "execution_count": 8,
     "metadata": {},
     "output_type": "execute_result"
    }
   ],
   "source": [
    "operation modularOracle(a : Int, N : Int, r : Int, regist : Qubit[]): Unit is Adj + Ctl {\n",
    "    let b = determ_coprime(a, N);\n",
    "    \n",
    "    // perform modular operation on target register\n",
    "    // ExpModI gives a^r (mod N)\n",
    "    // MultiplyByModularInteger gives | a^r (mod N) * register>\n",
    "    MultiplyByModularInteger(ExpModI(a, r, N),N, LittleEndian(regist));\n",
    "}"
   ]
  },
  {
   "cell_type": "markdown",
   "metadata": {},
   "source": [
    "### Step4: estimate order from the modular function \n",
    "#### 4.1.1 estimate frequency from the modular oracle use inbuilt function\n",
    "RobustPhaseEstimation is very useful here or it can be replaced by our own QPE ConstructPhaseEstimation below."
   ]
  },
  {
   "cell_type": "code",
   "execution_count": 9,
   "metadata": {},
   "outputs": [
    {
     "data": {
      "application/x-qsharp-data": "[\"GetFrequency\"]",
      "text/html": [
       "<ul><li>GetFrequency</li></ul>"
      ],
      "text/plain": [
       "GetFrequency"
      ]
     },
     "execution_count": 9,
     "metadata": {},
     "output_type": "execute_result"
    }
   ],
   "source": [
    "// assuming the operation takes in qubits_size, oracle and returns the phase e^theta*Fi*2^(n-1)\n",
    "\n",
    "operation GetFrequency(Oracle : ((Int, Qubit[]) => Unit is Adj+Ctl), bit_size : Int): Int {\n",
    "    use regist = Qubit[bit_size] {\n",
    "        let precision = 2*(bit_size)+1;\n",
    "        \n",
    "        // apply XOR\n",
    "        ApplyXorInPlace(1, LittleEndian(regist));\n",
    "        \n",
    "        // inbuilt RobustPhaseEstimation performs non-iterative estimation\n",
    "        let phase = RobustPhaseEstimation(precision, DiscreteOracle(Oracle), (LittleEndian(regist))!);\n",
    "        ResetAll(regist);\n",
    "        \n",
    "        return Round((phase * IntAsDouble(2 ^ (precision-1))) / PI());\n",
    "    }\n",
    "}"
   ]
  },
  {
   "cell_type": "markdown",
   "metadata": {},
   "source": [
    "#### 4.1.2 estimate frequency from constructed modular oracle\n",
    "Build our own phase estimation\n",
    "For details, please refer to the QPE kata"
   ]
  },
  {
   "cell_type": "code",
   "execution_count": 10,
   "metadata": {},
   "outputs": [
    {
     "name": "stdout",
     "output_type": "stream",
     "text": [
      "\n",
      "Warning QS3002: \n",
      "File: /snippet_.qs \n",
      "Position: [ln 1, cn 79] \n",
      "Deprecated syntax. Use the type name \"Unit\" instead.\n",
      "\n",
      "Warning QS3306: \n",
      "File: /snippet_.qs \n",
      "Position: [ln 4, cn 13] \n",
      "Deprecated syntax. Parentheses here are no longer required and will not be supported in the future.\n",
      "\n",
      "Warning QS3306: \n",
      "File: /snippet_.qs \n",
      "Position: [ln 11, cn 13] \n",
      "Deprecated syntax. Parentheses here are no longer required and will not be supported in the future.\n"
     ]
    },
    {
     "data": {
      "application/x-qsharp-data": "[\"QPE_Reference\"]",
      "text/html": [
       "<ul><li>QPE_Reference</li></ul>"
      ],
      "text/plain": [
       "QPE_Reference"
      ]
     },
     "execution_count": 10,
     "metadata": {},
     "output_type": "execute_result"
    }
   ],
   "source": [
    "operation QPE_Reference (a : Int, N : Int, regs : Qubit[], eigen : Qubit[]) : ()\n",
    "{\n",
    "        // create superpositions\n",
    "        for (i in 0..(Length(regs) - 1)) {\n",
    "            H(regs[i]);\n",
    "        }\n",
    "        \n",
    "        // the phase is e^(i*theta*phi2^(n-1))\n",
    "        // const to record the 2^(n-1)\n",
    "        mutable power = 1;\n",
    "        for (j in 0..(Length(regs) - 1)) {\n",
    "            (Controlled modularOracle) ([regs[Length(regs) -j-1]], (a, N, power, eigen)); \n",
    "            set power = power * 2;\n",
    "\n",
    "        (inverse_QFT)(regs);\n",
    "\n",
    "    }\n",
    "    \n",
    "}"
   ]
  },
  {
   "cell_type": "code",
   "execution_count": 11,
   "metadata": {},
   "outputs": [
    {
     "data": {
      "application/x-qsharp-data": "[\"ConstructPhaseEstimation\"]",
      "text/html": [
       "<ul><li>ConstructPhaseEstimation</li></ul>"
      ],
      "text/plain": [
       "ConstructPhaseEstimation"
      ]
     },
     "execution_count": 11,
     "metadata": {},
     "output_type": "execute_result"
    }
   ],
   "source": [
    "operation ConstructPhaseEstimation(x:Int, N:Int, prec : Int): Int{\n",
    "    mutable answ = 0;\n",
    "    use eigen = Qubit[BitSizeI(N)] {\n",
    "        X(eigen[0]);\n",
    "        use regist = Qubit[prec] {\n",
    "            QPE_Reference(x,N,regist,eigen);\n",
    "            \n",
    "            for i in 0 .. prec-1{\n",
    "                set answ = MResetX(regist[i]) == One ? answ *2+1 | answ *2;\n",
    "            }\n",
    "        }\n",
    "        }\n",
    "        return answ;\n",
    "    \n",
    "\n",
    "}"
   ]
  },
  {
   "cell_type": "markdown",
   "metadata": {},
   "source": [
    "#### 4.2 repeat finding the frequency till it is valid\n",
    "Due the huge range of possible periods, use the trick of continued fraction expension. It will result in uncerity of finding a period."
   ]
  },
  {
   "cell_type": "code",
   "execution_count": 12,
   "metadata": {},
   "outputs": [
    {
     "data": {
      "application/x-qsharp-data": "[\"GetPeriod\"]",
      "text/html": [
       "<ul><li>GetPeriod</li></ul>"
      ],
      "text/plain": [
       "GetPeriod"
      ]
     },
     "execution_count": 12,
     "metadata": {},
     "output_type": "execute_result"
    }
   ],
   "source": [
    "operation GetPeriod(generator : Int, N : Int): Int {\n",
    "\n",
    "    let b = determ_coprime(generator,  N);\n",
    " \n",
    "    let bitSize = BitSizeI(N);\n",
    "    let measurement_precision = determ_precision(N);\n",
    "    mutable res = 1;\n",
    "    mutable frequency = 0;\n",
    " \n",
    "    // perform iterative period finding until the reminader is 1\n",
    "    repeat {\n",
    "        // frequency is get from QPE of modular oracle\n",
    "        set frequency = GetFrequency(modularOracle(generator,  N, _, _), bitSize);\n",
    "        \n",
    "        // continued fraction expension\n",
    "        if (frequency != 0) {\n",
    "            // compute frequency/precision\n",
    "            let frac = Fraction(frequency, 2^measurement_precision);\n",
    "            // find the continued fraction convergent close to N\n",
    "            let fraction =  ContinuedFractionConvergentI(frac,  N);\n",
    "            // Fraction = (Fst,Snd) = (Numerator, Denominator) \n",
    "            let denominator = AbsI(Snd(fraction!));\n",
    "            set res = (denominator * res) / GreatestCommonDivisorI(res, denominator);\n",
    "        } else {\n",
    "            Message(\"The frequency was 0 from fraction calculation\");\n",
    "            Message(\"run another frequency estimation\");\n",
    "        }\n",
    "    } until(ExpModI(generator, res,  N) == 1);\n",
    "\n",
    "    return res;\n",
    "}"
   ]
  },
  {
   "cell_type": "markdown",
   "metadata": {},
   "source": [
    "### Step 5 Assemble everything"
   ]
  },
  {
   "cell_type": "code",
   "execution_count": 13,
   "metadata": {},
   "outputs": [
    {
     "data": {
      "application/x-qsharp-data": "[\"update_guess\"]",
      "text/html": [
       "<ul><li>update_guess</li></ul>"
      ],
      "text/plain": [
       "update_guess"
      ]
     },
     "execution_count": 13,
     "metadata": {},
     "output_type": "execute_result"
    }
   ],
   "source": [
    "// qsharp has inbuilt GreatestCommonDivisor \"GreatestCommonDivisorI\" and \"GreatestCommonDivisorL\"\n",
    "// use GreatestCommonDivisorI for smaller int number as our gcd\n",
    "// use gcd to update our guess given period \n",
    "// r is our period here, also the power\n",
    "\n",
    "operation update_guess(a :Int, r : Int, N: Int):(Bool,Int) {\n",
    "    mutable new_guess = 1;\n",
    "    if (r % 2 == 0){\n",
    "        let update_generator = ExpModI(a, r/2, N);\n",
    "        if (update_generator != N -1 or update_generator != N +1){\n",
    "\n",
    "            // initialize a uniform distribution on selecting new guess\n",
    "            let distribution = DiscreteUniformDistribution(0,1);\n",
    "       \n",
    "            let guess1 = GreatestCommonDivisorI(update_generator-1, N);\n",
    "            let guess2 = GreatestCommonDivisorI(update_generator+1, N);\n",
    "            let index = distribution::Sample();\n",
    "            \n",
    "            // generate new guess\n",
    "            if (index == 0){\n",
    "               set new_guess = guess1;}\n",
    "            else { set new_guess = guess2;}\n",
    "            \n",
    "            // get rid of guess equals one or N itself\n",
    "            if (new_guess != 1 and new_guess != N){\n",
    "                return (true, new_guess);} \n",
    "            else { return(false, new_guess); }\n",
    "        } else { return(false,new_guess); }\n",
    "    } else {\n",
    "        return (false, new_guess);\n",
    "        }\n",
    "}"
   ]
  },
  {
   "cell_type": "code",
   "execution_count": 14,
   "metadata": {},
   "outputs": [
    {
     "data": {
      "application/x-qsharp-data": "[\"Factorization\"]",
      "text/html": [
       "<ul><li>Factorization</li></ul>"
      ],
      "text/plain": [
       "Factorization"
      ]
     },
     "execution_count": 14,
     "metadata": {},
     "output_type": "execute_result"
    }
   ],
   "source": [
    "operation Factorization(number : Int): Int {\n",
    "    \n",
    "    // if it is prime, the factor is 1 and itself\n",
    "    if ( determ_prime(number)) {\n",
    "        return 1;\n",
    "    }\n",
    "    \n",
    "    // initalize the two factors to be 1\n",
    "    mutable first_factor = 1;\n",
    "    mutable sec_factor = 1;\n",
    "    \n",
    "    // the condition varible to terminate the loop\n",
    "    mutable success = false;\n",
    "    Message($\"Factoring {number} in process\");\n",
    "    repeat {\n",
    "        let generator = DrawRandomInt(2, number - 2);\n",
    "        Message($\"The random chosen generator is {generator}\");\n",
    "        if (IsCoprimeI(generator, number)) {\n",
    "           \n",
    "            Message($\"Finding the period...\");\n",
    "            let period = GetPeriod(generator, number);\n",
    "            Message($\"The period is {period}\");\n",
    "            set (success, first_factor) = update_guess(generator, period, number);\n",
    "            set sec_factor = number / first_factor;\n",
    "            if(success){\n",
    "            Message($\"Successed, the new guesses is {first_factor}\");}\n",
    "            else{Message($\"Failed, execute another period finding\");}\n",
    "        } else {\n",
    "            let common_factor = GreatestCommonDivisorI(number, generator);\n",
    "            Message($\"Luckily, the random chosen generator {generator} contains co-factor\");\n",
    "            \n",
    "            if (common_factor!= 1 or common_factor != number){\n",
    "            set first_factor = common_factor;\n",
    "            set sec_factor = number / common_factor;} \n",
    "            else{\n",
    "            set first_factor = generator;\n",
    "            }\n",
    "            set success = true;}\n",
    "    } until(success);\n",
    "    Message($\"The factors are {first_factor} and {sec_factor}\");\n",
    "    return first_factor;\n",
    "}"
   ]
  },
  {
   "cell_type": "markdown",
   "metadata": {},
   "source": [
    "### Testing"
   ]
  },
  {
   "cell_type": "markdown",
   "metadata": {},
   "source": [
    "#### Single Testing"
   ]
  },
  {
   "cell_type": "code",
   "execution_count": 15,
   "metadata": {},
   "outputs": [
    {
     "data": {
      "application/x-qsharp-data": "[\"single_test\"]",
      "text/html": [
       "<ul><li>single_test</li></ul>"
      ],
      "text/plain": [
       "single_test"
      ]
     },
     "execution_count": 15,
     "metadata": {},
     "output_type": "execute_result"
    }
   ],
   "source": [
    "operation single_test() : (Int, Int) {\n",
    "            let N = 15;\n",
    "            let guess = Factorization(N);\n",
    "            return (guess,N/guess);\n",
    "        }"
   ]
  },
  {
   "cell_type": "code",
   "execution_count": 16,
   "metadata": {},
   "outputs": [
    {
     "name": "stdout",
     "output_type": "stream",
     "text": [
      "Checked, 15 is non-prime\n",
      "Factoring 15 in process\n",
      "The random chosen generator is 6\n",
      "Luckily, the random chosen generator 6 contains co-factor\n",
      "The factors are 3 and 5\n"
     ]
    },
    {
     "data": {
      "application/x-qsharp-data": "{\"@type\":\"@tuple\",\"Item1\":3,\"Item2\":5}",
      "text/plain": [
       "(3, 5)"
      ]
     },
     "execution_count": 16,
     "metadata": {},
     "output_type": "execute_result"
    }
   ],
   "source": [
    "%simulate single_test"
   ]
  },
  {
   "cell_type": "code",
   "execution_count": 17,
   "metadata": {},
   "outputs": [
    {
     "data": {
      "application/x-qsharp-data": "[\"single_test2\"]",
      "text/html": [
       "<ul><li>single_test2</li></ul>"
      ],
      "text/plain": [
       "single_test2"
      ]
     },
     "execution_count": 17,
     "metadata": {},
     "output_type": "execute_result"
    }
   ],
   "source": [
    "operation single_test2() : (Int, Int) {\n",
    "            let N = 25;\n",
    "            let guess = Factorization(N);\n",
    "            return (guess,N/guess);\n",
    "        }"
   ]
  },
  {
   "cell_type": "code",
   "execution_count": 18,
   "metadata": {},
   "outputs": [
    {
     "name": "stdout",
     "output_type": "stream",
     "text": [
      "Checked, 25 is non-prime\n",
      "Factoring 25 in process\n",
      "The random chosen generator is 14\n",
      "Finding the period...\n",
      "The period is 10\n",
      "Failed, execute another period finding\n",
      "The random chosen generator is 13\n",
      "Finding the period...\n",
      "The period is 20\n",
      "Failed, execute another period finding\n",
      "The random chosen generator is 14\n",
      "Finding the period...\n",
      "The period is 10\n",
      "Failed, execute another period finding\n",
      "The random chosen generator is 16\n",
      "Finding the period...\n",
      "The frequency was 0 from fraction calculation\n",
      "run another frequency estimation\n",
      "The period is 5\n",
      "Failed, execute another period finding\n",
      "The random chosen generator is 17\n",
      "Finding the period...\n",
      "The period is 20\n",
      "Failed, execute another period finding\n",
      "The random chosen generator is 5\n",
      "Luckily, the random chosen generator 5 contains co-factor\n",
      "The factors are 5 and 5\n"
     ]
    },
    {
     "data": {
      "application/x-qsharp-data": "{\"@type\":\"@tuple\",\"Item1\":5,\"Item2\":5}",
      "text/plain": [
       "(5, 5)"
      ]
     },
     "execution_count": 18,
     "metadata": {},
     "output_type": "execute_result"
    }
   ],
   "source": [
    "%simulate single_test2"
   ]
  },
  {
   "cell_type": "markdown",
   "metadata": {},
   "source": [
    "#### Group Testing"
   ]
  },
  {
   "cell_type": "markdown",
   "metadata": {},
   "source": [
    "Qsharp is only a simulator rather than a actual QC. Do not try excessive large number, it may result in your computer stuck. It would take 15 mins or so to run through all the test."
   ]
  },
  {
   "cell_type": "code",
   "execution_count": 19,
   "metadata": {},
   "outputs": [
    {
     "data": {
      "application/x-qsharp-data": "[\"group_test\"]",
      "text/html": [
       "<ul><li>group_test</li></ul>"
      ],
      "text/plain": [
       "group_test"
      ]
     },
     "execution_count": 19,
     "metadata": {},
     "output_type": "execute_result"
    }
   ],
   "source": [
    "operation group_test():Int{\n",
    "            // case1\n",
    "            let N1 = 21;\n",
    "            let g1 = Factorization(N1);\n",
    "            Message(\"\\n\");\n",
    "            \n",
    "             // case2\n",
    "            let N2 = 15;\n",
    "            let g2 = Factorization(N2);\n",
    "            Message(\"\\n\");\n",
    "            \n",
    "             // case3\n",
    "            let N3 = 12;\n",
    "            let g3 = Factorization(N3);\n",
    "            Message(\"\\n\");\n",
    "            \n",
    "             // case4\n",
    "            let N4 = 9;\n",
    "            let g4 = Factorization(N4);\n",
    "            Message(\"\\n\");\n",
    "            \n",
    "             // case5\n",
    "            let N5 = 99;\n",
    "            let g5 = Factorization(N5);\n",
    "            Message(\"\\n\");\n",
    "            \n",
    "            // for input larger than 100, it takes more qubits memory to finish\n",
    "            // qsharp is only a simulator rather than a actual QC, it may not finish runing it\n",
    "            \n",
    "            // case6\n",
    "            //let N6 = 189;\n",
    "            //let g6 = Factorization(N6);\n",
    "            //Message(\"\\n\");\n",
    "            \n",
    "            // case7\n",
    "            //let N7 = 256;\n",
    "            //let g7 = Factorization(N7);\n",
    "            //Message(\"\\n\");\n",
    "            \n",
    "            // case8\n",
    "            //let N8 = 475;\n",
    "            //let g8 = Factorization(N8);\n",
    "            //Message(\"\\n\");\n",
    "            \n",
    "            \n",
    "            return 0;\n",
    "        }"
   ]
  },
  {
   "cell_type": "code",
   "execution_count": null,
   "metadata": {
    "scrolled": true
   },
   "outputs": [
    {
     "name": "stdout",
     "output_type": "stream",
     "text": [
      "Checked, 21 is non-prime\n",
      "Factoring 21 in process\n",
      "The random chosen generator is 11\n",
      "Finding the period...\n"
     ]
    }
   ],
   "source": [
    "%simulate group_test"
   ]
  },
  {
   "cell_type": "code",
   "execution_count": null,
   "metadata": {},
   "outputs": [],
   "source": []
  }
 ],
 "metadata": {
  "kernelspec": {
   "display_name": "Q#",
   "language": "qsharp",
   "name": "iqsharp"
  },
  "language_info": {
   "file_extension": ".qs",
   "mimetype": "text/x-qsharp",
   "name": "qsharp",
   "version": "0.14"
  }
 },
 "nbformat": 4,
 "nbformat_minor": 4
}
